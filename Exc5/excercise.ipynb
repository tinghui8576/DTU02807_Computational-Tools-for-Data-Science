{
 "cells": [
  {
   "cell_type": "markdown",
   "metadata": {},
   "source": [
    "# Implement the A-Priori algorithm"
   ]
  },
  {
   "cell_type": "code",
   "execution_count": 162,
   "metadata": {},
   "outputs": [],
   "source": [
    "import pandas as pd\n",
    "import numpy as np"
   ]
  },
  {
   "cell_type": "code",
   "execution_count": 163,
   "metadata": {},
   "outputs": [
    {
     "name": "stdout",
     "output_type": "stream",
     "text": [
      "[['Butter', 'Bread', 'Milk', 'Flour', 'Sugar', 'Cola', 'Cheese', 'Toothbrush', 'pastry'], ['frankfurter', 'Butter', 'Bread', 'Milk', 'Cola'], ['Bread', 'Butter', 'Milk', 'canned beer', 'Toothbrush', 'Flour', 'Sugar', ''], ['Butter', 'Bread', 'pasta', 'Onion', 'ham'], ['berries', 'hard cheese', 'Cola', 'Cheese', 'Toothbrush', 'pastry'], ['Flour', 'Sugar', 'Butter', 'Breadfrozen fish', 'berries', 'Cola', 'Toothbrush'], ['citrus fruit', 'Milk', 'Flour', 'Toothbrush', 'frankfurter'], ['Flour', 'Onion', 'pastry', 'dessert', 'Book', 'Sugar'], ['coffee', 'Cola', 'canned beer', 'Toothbrush', 'whipped cream'], ['frankfurter', 'hard cheese', 'Cola', 'pastry'], ['Butter', 'Bread', 'pastry', 'Flour', 'canned beer', 'Cola', 'Onion', 'Toothbrush'], ['vegetables', 'whipped cream', 'dessert'], ['frozen meals', 'domestic eggs', 'turkey', 'Flour'], ['ice cream', 'white wine', 'oil'], ['frankfurter', 'Bread', 'Milk', 'Flour', 'Toothbrush', 'ice cream', 'Cheese'], ['Bread', 'frozen fish', 'Flour', 'Milk', 'Cheese', 'Salt', 'ham', 'pastry'], ['coffee', 'coffee', 'turkey', 'frozen fish', 'pastry'], ['Butter', 'Bread', 'pasta', 'Yogurt', 'domestic eggs', 'pastry'], ['berries', 'citrus fruit', 'Flour', 'Cheese', ''], ['Flour', 'Sugar', 'hard cheese', 'domestic eggs'], ['citrus fruit', 'canned beer', 'Toothbrush'], ['Bread', 'hard cheese', 'Cookie', 'whipped cream'], ['white wine', 'Milk', 'Flour', 'Salt', 'dessert'], ['frozen meals', 'Milk', 'Flour', 'Toothbrush', 'Onion'], ['Milk', 'Flour', 'Sugar', 'Onion', 'ham', 'Cola', 'Toothbrush'], ['Bread', 'Toothbrush', 'turkey', 'Cheese', 'pastry'], ['frozen meals', 'oil', 'domestic eggs', 'Cheese', ''], ['Cola', 'white wine', 'Sugar', 'Flour', 'Onion', 'Toothbrush'], ['citrus fruit', 'oil', 'Butter', 'Bread', 'Paper', 'pastry', ''], ['Milk', 'Flour', 'Sugar', 'Book', 'whipped cream', 'pastry'], ['brown bread', 'Flour', 'ham', 'pastry'], ['Toothbrush', 'hard cheese', 'Butter', 'Bread', 'Cola'], ['frankfurter', 'Butter', 'Bread', 'coffee', 'Cheese', 'pastry'], ['']]\n"
     ]
    }
   ],
   "source": [
    "file = open(\"basket.csv\")\n",
    "lines = file.read().split('\\n')\n",
    "\n",
    "basket = [line.split(',') for line in lines]\n",
    "print(basket)"
   ]
  },
  {
   "cell_type": "code",
   "execution_count": 164,
   "metadata": {},
   "outputs": [
    {
     "data": {
      "text/html": [
       "<div>\n",
       "<style scoped>\n",
       "    .dataframe tbody tr th:only-of-type {\n",
       "        vertical-align: middle;\n",
       "    }\n",
       "\n",
       "    .dataframe tbody tr th {\n",
       "        vertical-align: top;\n",
       "    }\n",
       "\n",
       "    .dataframe thead th {\n",
       "        text-align: right;\n",
       "    }\n",
       "</style>\n",
       "<table border=\"1\" class=\"dataframe\">\n",
       "  <thead>\n",
       "    <tr style=\"text-align: right;\">\n",
       "      <th></th>\n",
       "      <th>hash</th>\n",
       "    </tr>\n",
       "  </thead>\n",
       "  <tbody>\n",
       "    <tr>\n",
       "      <th></th>\n",
       "      <td>0</td>\n",
       "    </tr>\n",
       "    <tr>\n",
       "      <th>Book</th>\n",
       "      <td>1</td>\n",
       "    </tr>\n",
       "    <tr>\n",
       "      <th>Bread</th>\n",
       "      <td>2</td>\n",
       "    </tr>\n",
       "    <tr>\n",
       "      <th>Breadfrozen fish</th>\n",
       "      <td>3</td>\n",
       "    </tr>\n",
       "    <tr>\n",
       "      <th>Butter</th>\n",
       "      <td>4</td>\n",
       "    </tr>\n",
       "    <tr>\n",
       "      <th>Cheese</th>\n",
       "      <td>5</td>\n",
       "    </tr>\n",
       "    <tr>\n",
       "      <th>Cola</th>\n",
       "      <td>6</td>\n",
       "    </tr>\n",
       "    <tr>\n",
       "      <th>Cookie</th>\n",
       "      <td>7</td>\n",
       "    </tr>\n",
       "    <tr>\n",
       "      <th>Flour</th>\n",
       "      <td>8</td>\n",
       "    </tr>\n",
       "    <tr>\n",
       "      <th>Milk</th>\n",
       "      <td>9</td>\n",
       "    </tr>\n",
       "    <tr>\n",
       "      <th>Onion</th>\n",
       "      <td>10</td>\n",
       "    </tr>\n",
       "    <tr>\n",
       "      <th>Paper</th>\n",
       "      <td>11</td>\n",
       "    </tr>\n",
       "    <tr>\n",
       "      <th>Salt</th>\n",
       "      <td>12</td>\n",
       "    </tr>\n",
       "    <tr>\n",
       "      <th>Sugar</th>\n",
       "      <td>13</td>\n",
       "    </tr>\n",
       "    <tr>\n",
       "      <th>Toothbrush</th>\n",
       "      <td>14</td>\n",
       "    </tr>\n",
       "    <tr>\n",
       "      <th>Yogurt</th>\n",
       "      <td>15</td>\n",
       "    </tr>\n",
       "    <tr>\n",
       "      <th>berries</th>\n",
       "      <td>16</td>\n",
       "    </tr>\n",
       "    <tr>\n",
       "      <th>brown bread</th>\n",
       "      <td>17</td>\n",
       "    </tr>\n",
       "    <tr>\n",
       "      <th>canned beer</th>\n",
       "      <td>18</td>\n",
       "    </tr>\n",
       "    <tr>\n",
       "      <th>citrus fruit</th>\n",
       "      <td>19</td>\n",
       "    </tr>\n",
       "    <tr>\n",
       "      <th>coffee</th>\n",
       "      <td>20</td>\n",
       "    </tr>\n",
       "    <tr>\n",
       "      <th>dessert</th>\n",
       "      <td>21</td>\n",
       "    </tr>\n",
       "    <tr>\n",
       "      <th>domestic eggs</th>\n",
       "      <td>22</td>\n",
       "    </tr>\n",
       "    <tr>\n",
       "      <th>frankfurter</th>\n",
       "      <td>23</td>\n",
       "    </tr>\n",
       "    <tr>\n",
       "      <th>frozen fish</th>\n",
       "      <td>24</td>\n",
       "    </tr>\n",
       "    <tr>\n",
       "      <th>frozen meals</th>\n",
       "      <td>25</td>\n",
       "    </tr>\n",
       "    <tr>\n",
       "      <th>ham</th>\n",
       "      <td>26</td>\n",
       "    </tr>\n",
       "    <tr>\n",
       "      <th>hard cheese</th>\n",
       "      <td>27</td>\n",
       "    </tr>\n",
       "    <tr>\n",
       "      <th>ice cream</th>\n",
       "      <td>28</td>\n",
       "    </tr>\n",
       "    <tr>\n",
       "      <th>oil</th>\n",
       "      <td>29</td>\n",
       "    </tr>\n",
       "    <tr>\n",
       "      <th>pasta</th>\n",
       "      <td>30</td>\n",
       "    </tr>\n",
       "    <tr>\n",
       "      <th>pastry</th>\n",
       "      <td>31</td>\n",
       "    </tr>\n",
       "    <tr>\n",
       "      <th>turkey</th>\n",
       "      <td>32</td>\n",
       "    </tr>\n",
       "    <tr>\n",
       "      <th>vegetables</th>\n",
       "      <td>33</td>\n",
       "    </tr>\n",
       "    <tr>\n",
       "      <th>whipped cream</th>\n",
       "      <td>34</td>\n",
       "    </tr>\n",
       "    <tr>\n",
       "      <th>white wine</th>\n",
       "      <td>35</td>\n",
       "    </tr>\n",
       "  </tbody>\n",
       "</table>\n",
       "</div>"
      ],
      "text/plain": [
       "                  hash\n",
       "                     0\n",
       "Book                 1\n",
       "Bread                2\n",
       "Breadfrozen fish     3\n",
       "Butter               4\n",
       "Cheese               5\n",
       "Cola                 6\n",
       "Cookie               7\n",
       "Flour                8\n",
       "Milk                 9\n",
       "Onion               10\n",
       "Paper               11\n",
       "Salt                12\n",
       "Sugar               13\n",
       "Toothbrush          14\n",
       "Yogurt              15\n",
       "berries             16\n",
       "brown bread         17\n",
       "canned beer         18\n",
       "citrus fruit        19\n",
       "coffee              20\n",
       "dessert             21\n",
       "domestic eggs       22\n",
       "frankfurter         23\n",
       "frozen fish         24\n",
       "frozen meals        25\n",
       "ham                 26\n",
       "hard cheese         27\n",
       "ice cream           28\n",
       "oil                 29\n",
       "pasta               30\n",
       "pastry              31\n",
       "turkey              32\n",
       "vegetables          33\n",
       "whipped cream       34\n",
       "white wine          35"
      ]
     },
     "execution_count": 164,
     "metadata": {},
     "output_type": "execute_result"
    }
   ],
   "source": [
    "baskethash = pd.DataFrame(range(len(np.unique(np.concatenate(basket)))),index=np.unique(np.concatenate(basket)),columns=['hash'])\n",
    "baskethash"
   ]
  },
  {
   "cell_type": "code",
   "execution_count": 165,
   "metadata": {},
   "outputs": [
    {
     "data": {
      "text/plain": [
       "array([ 5.,  2., 13.,  1., 10.,  8., 10.,  1., 17., 10.,  6.,  1.,  2.,\n",
       "        8., 14.,  1.,  3.,  1.,  4.,  4.,  4.,  3.,  4.,  5.,  2.,  3.,\n",
       "        4.,  5.,  2.,  3.,  2., 13.,  3.,  1.,  4.,  3.])"
      ]
     },
     "execution_count": 165,
     "metadata": {},
     "output_type": "execute_result"
    }
   ],
   "source": [
    "count_items = np.zeros(len(baskethash))\n",
    "\n",
    "for l in basket:\n",
    "    for item in l:\n",
    "        count_items[baskethash.loc[item,'hash']] += 1\n",
    "count_items"
   ]
  },
  {
   "cell_type": "code",
   "execution_count": 166,
   "metadata": {},
   "outputs": [
    {
     "data": {
      "text/plain": [
       "['Bread',\n",
       " 'Butter',\n",
       " 'Cheese',\n",
       " 'Cola',\n",
       " 'Flour',\n",
       " 'Milk',\n",
       " 'Sugar',\n",
       " 'Toothbrush',\n",
       " 'pastry']"
      ]
     },
     "execution_count": 166,
     "metadata": {},
     "output_type": "execute_result"
    }
   ],
   "source": [
    "freq_items =list([ baskethash['hash'].index[i] for i in np.where(count_items/len(basket) > 0.2)][0])\n",
    "freq_items"
   ]
  },
  {
   "cell_type": "code",
   "execution_count": 167,
   "metadata": {},
   "outputs": [
    {
     "data": {
      "text/plain": [
       "array([[0., 0., 0., ..., 0., 0., 0.],\n",
       "       [0., 0., 0., ..., 0., 0., 0.],\n",
       "       [0., 0., 0., ..., 0., 0., 0.],\n",
       "       ...,\n",
       "       [0., 0., 0., ..., 0., 0., 0.],\n",
       "       [0., 0., 0., ..., 0., 0., 0.],\n",
       "       [0., 0., 0., ..., 0., 0., 0.]])"
      ]
     },
     "execution_count": 167,
     "metadata": {},
     "output_type": "execute_result"
    }
   ],
   "source": [
    "pair = np.zeros((len(baskethash)+1,len(baskethash)+1))\n",
    "\n",
    "for l in basket:\n",
    "    freq_list = [i for i in l if i in freq_items]\n",
    "    if len(freq_list) >=2:\n",
    "        for (idx, item) in enumerate(freq_list):\n",
    "            for item_s in freq_list[idx+1:]:\n",
    "                i = baskethash.loc[item,'hash']\n",
    "                j = baskethash.loc[item_s,'hash']\n",
    "                pair[max(i,j),min(i,j)] += 1\n",
    "pair"
   ]
  },
  {
   "cell_type": "code",
   "execution_count": 168,
   "metadata": {},
   "outputs": [
    {
     "name": "stdout",
     "output_type": "stream",
     "text": [
      "[['Butter', 'Bread'], ['Milk', 'Flour'], ['Sugar', 'Flour'], ['Toothbrush', 'Cola'], ['Toothbrush', 'Flour'], ['pastry', 'Bread']]\n"
     ]
    }
   ],
   "source": [
    "pair_item = [[baskethash['hash'].index[i],baskethash['hash'].index[j]] for (i, j) in zip(*np.where(pair/len(basket) > 0.2))]\n",
    "print(pair_item)"
   ]
  }
 ],
 "metadata": {
  "kernelspec": {
   "display_name": "base",
   "language": "python",
   "name": "python3"
  },
  "language_info": {
   "codemirror_mode": {
    "name": "ipython",
    "version": 3
   },
   "file_extension": ".py",
   "mimetype": "text/x-python",
   "name": "python",
   "nbconvert_exporter": "python",
   "pygments_lexer": "ipython3",
   "version": "3.11.4"
  },
  "orig_nbformat": 4
 },
 "nbformat": 4,
 "nbformat_minor": 2
}
