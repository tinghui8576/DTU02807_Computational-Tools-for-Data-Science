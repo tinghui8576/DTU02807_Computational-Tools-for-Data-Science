{
 "cells": [
  {
   "cell_type": "markdown",
   "metadata": {},
   "source": [
    "# Exercise 1: Divisive clustering via Girvan–Newman"
   ]
  },
  {
   "cell_type": "code",
   "execution_count": 3,
   "metadata": {},
   "outputs": [],
   "source": [
    "import networkx as nx"
   ]
  },
  {
   "cell_type": "code",
   "execution_count": 5,
   "metadata": {},
   "outputs": [],
   "source": [
    "def step1(G, root):\n",
    "    visited, queue = [], []\n",
    "    shortest_path ={}\n",
    "\n",
    "    visited.append(root)\n",
    "    queue.append((root,[root]))\n",
    "    while queue:\n",
    "        q, path = queue.pop()\n",
    "        \n",
    "        \n",
    "        for n in G.neighbors(q):\n",
    "            if n == root:\n",
    "                continue\n",
    "            if n not in visited:\n",
    "                visited.append(n)\n",
    "                queue.append((n,path+[n]))\n",
    "                shortest_path[n] = [path+[n]]\n",
    "            else:\n",
    "                if len(path)+1 == len(shortest_path[n][0]):\n",
    "                    shortest_path[n].append((path+[n]))\n",
    "    return shortest_path"
   ]
  },
  {
   "cell_type": "code",
   "execution_count": 7,
   "metadata": {},
   "outputs": [],
   "source": [
    "def step2(G,dict):\n",
    "    dis = {}\n",
    "    for n in G.nodes():\n",
    "        if n in dict.keys():\n",
    "            dis[n] = len(dict[n])\n",
    "        else:\n",
    "            dis[n] = 0\n",
    "    \n",
    "    return dis"
   ]
  },
  {
   "cell_type": "code",
   "execution_count": 9,
   "metadata": {},
   "outputs": [],
   "source": [
    "def step3(G, path, e):\n",
    "    br_e = 0\n",
    "    start, end = e\n",
    "    for n in path.keys():\n",
    "        edge = 0\n",
    "        shortest = path[n]\n",
    "        for p in shortest:\n",
    "            if start in p and end in p:\n",
    "                edge+=1\n",
    "        br_e +=edge/len(shortest)\n",
    "            \n",
    "    \n",
    "    return br_e"
   ]
  },
  {
   "cell_type": "code",
   "execution_count": 11,
   "metadata": {},
   "outputs": [],
   "source": [
    "def between(G, e):\n",
    "    br = 0\n",
    "    for n in G.nodes():\n",
    "        path_dict = step1(G, n)\n",
    "        br += step3(G, path_dict, e)\n",
    "    return 1/2*br"
   ]
  },
  {
   "cell_type": "code",
   "execution_count": 42,
   "metadata": {},
   "outputs": [],
   "source": [
    "def Girvan_Newman(G):\n",
    "    while len(G.edges()) > 0:\n",
    "        betweenness = []\n",
    "        for e in G.edges:\n",
    "            betweenness.append([e, between(G, e)])\n",
    "        betweenness.sort(key=lambda x:x[1], reverse=True)\n",
    "        G.remove_edge(betweenness[0][0][0],betweenness[0][0][1])\n",
    "        print(G.edges())"
   ]
  },
  {
   "cell_type": "code",
   "execution_count": 43,
   "metadata": {},
   "outputs": [
    {
     "name": "stdout",
     "output_type": "stream",
     "text": [
      "Nb nodes: n = 8\n",
      "Nb edges: m = 10\n",
      "[('A', 'H'), ('A', 'B'), ('A', 'C'), ('B', 'C'), ('D', 'G'), ('D', 'E'), ('D', 'F'), ('E', 'F'), ('F', 'G')]\n",
      "[('A', 'B'), ('A', 'C'), ('B', 'C'), ('D', 'G'), ('D', 'E'), ('D', 'F'), ('E', 'F'), ('F', 'G')]\n",
      "[('A', 'B'), ('A', 'C'), ('B', 'C'), ('D', 'E'), ('D', 'F'), ('E', 'F'), ('F', 'G')]\n",
      "[('A', 'B'), ('A', 'C'), ('B', 'C'), ('D', 'E'), ('D', 'F'), ('E', 'F')]\n",
      "[('A', 'C'), ('B', 'C'), ('D', 'E'), ('D', 'F'), ('E', 'F')]\n",
      "[('B', 'C'), ('D', 'E'), ('D', 'F'), ('E', 'F')]\n",
      "[('D', 'E'), ('D', 'F'), ('E', 'F')]\n",
      "[('D', 'F'), ('E', 'F')]\n",
      "[('E', 'F')]\n",
      "[]\n"
     ]
    },
    {
     "data": {
      "image/png": "[encoded data removed]",
      "text/plain": [
       "<Figure size 640x480 with 1 Axes>"
      ]
     },
     "metadata": {},
     "output_type": "display_data"
    }
   ],
   "source": [
    "graph = nx.Graph()\n",
    "\n",
    "nodes = ['A','B','C','D','E','F','G','H']\n",
    "graph.add_nodes_from(nodes)\n",
    "edges = [\n",
    "    ('A','H'), ('A','B'), ('A','C'), \n",
    "    ('B','C'), ('B','D'), ('D','G'), \n",
    "    ('D','E'), ('D','F'), ('G','F'), \n",
    "    ('F','E')\n",
    "]\n",
    "graph.add_edges_from(edges)\n",
    "n, m = len(graph.nodes()), len(graph.edges())\n",
    "print('Nb nodes: n =', n)\n",
    "print('Nb edges: m =', m)\n",
    "nx.draw(graph,with_labels=True)\n",
    "\n",
    "Girvan_Newman(graph)"
   ]
  },
  {
   "cell_type": "code",
   "execution_count": null,
   "metadata": {},
   "outputs": [
    {
     "data": {
      "text/plain": [
       "{('A', 'H'): 0.25,\n",
       " ('A', 'B'): 0.3571428571428571,\n",
       " ('A', 'C'): 0.07142857142857142,\n",
       " ('B', 'C'): 0.17857142857142855,\n",
       " ('B', 'D'): 0.5714285714285714,\n",
       " ('D', 'G'): 0.19642857142857142,\n",
       " ('D', 'E'): 0.19642857142857142,\n",
       " ('D', 'F'): 0.17857142857142855,\n",
       " ('E', 'F'): 0.05357142857142857,\n",
       " ('F', 'G'): 0.05357142857142857}"
      ]
     },
     "execution_count": 13,
     "metadata": {},
     "output_type": "execute_result"
    }
   ],
   "source": [
    "nx.algorithms.centrality.edge_betweenness_centrality(graph)"
   ]
  },
  {
   "cell_type": "code",
   "execution_count": null,
   "metadata": {},
   "outputs": [
    {
     "name": "stdout",
     "output_type": "stream",
     "text": [
      "(['A', 'B', 'C', 'H'], ['D', 'E', 'F', 'G'])\n"
     ]
    }
   ],
   "source": [
    "comp = nx.algorithms.community.girvan_newman(graph)\n",
    "community = tuple(sorted(c) for c in next(comp))\n",
    "print(community)"
   ]
  },
  {
   "cell_type": "code",
   "execution_count": null,
   "metadata": {},
   "outputs": [
    {
     "data": {
      "text/plain": [
       "0.395"
      ]
     },
     "execution_count": 21,
     "metadata": {},
     "output_type": "execute_result"
    }
   ],
   "source": [
    "nx.algorithms.community.modularity(graph, community)\n"
   ]
  }
 ],
 "metadata": {
  "kernelspec": {
   "display_name": "base",
   "language": "python",
   "name": "python3"
  },
  "language_info": {
   "codemirror_mode": {
    "name": "ipython",
    "version": 3
   },
   "file_extension": ".py",
   "mimetype": "text/x-python",
   "name": "python",
   "nbconvert_exporter": "python",
   "pygments_lexer": "ipython3",
   "version": "3.11.4"
  }
 },
 "nbformat": 4,
 "nbformat_minor": 2
}
