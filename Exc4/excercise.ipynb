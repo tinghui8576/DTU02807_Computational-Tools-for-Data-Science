{
 "cells": [
  {
   "cell_type": "markdown",
   "metadata": {},
   "source": [
    "# q-shingles"
   ]
  },
  {
   "cell_type": "code",
   "execution_count": 159,
   "metadata": {},
   "outputs": [],
   "source": [
    "def shinge(s, q):\n",
    "    \n",
    "    ans = []\n",
    "    words = s.split(\" \")\n",
    "    for ch in range(len(words)-q+1):\n",
    "        ans.append(words[ch:ch+q])\n",
    "    return list(ans)"
   ]
  },
  {
   "cell_type": "code",
   "execution_count": 160,
   "metadata": {},
   "outputs": [
    {
     "name": "stdout",
     "output_type": "stream",
     "text": [
      "[['This', 'is', 'the'], ['is', 'the', 'test'], ['the', 'test', 'for'], ['test', 'for', 'excercise'], ['for', 'excercise', '1']]\n"
     ]
    }
   ],
   "source": [
    "shi = shinge(\"This is the test for excercise 1\", 3)\n",
    "print(shi)"
   ]
  },
  {
   "cell_type": "markdown",
   "metadata": {},
   "source": [
    "# Minhashing"
   ]
  },
  {
   "cell_type": "markdown",
   "metadata": {},
   "source": [
    "## 3.1"
   ]
  },
  {
   "cell_type": "code",
   "execution_count": 161,
   "metadata": {},
   "outputs": [],
   "source": [
    "from DataWeek5.similarity import listhash"
   ]
  },
  {
   "cell_type": "code",
   "execution_count": 162,
   "metadata": {},
   "outputs": [],
   "source": [
    "def minhash(shingles, seed):\n",
    "    mini = float('inf')\n",
    "    for shi in shingles:\n",
    "        hash = listhash(shi, seed)\n",
    "        if mini > hash:\n",
    "            mini = hash\n",
    "    return mini"
   ]
  },
  {
   "cell_type": "code",
   "execution_count": 163,
   "metadata": {},
   "outputs": [
    {
     "name": "stdout",
     "output_type": "stream",
     "text": [
      "-1088793723\n"
     ]
    }
   ],
   "source": [
    "print(minhash(shi, 23))"
   ]
  },
  {
   "cell_type": "markdown",
   "metadata": {},
   "source": [
    "## 3.2"
   ]
  },
  {
   "cell_type": "code",
   "execution_count": 164,
   "metadata": {},
   "outputs": [],
   "source": [
    "def minhashes(shingles, k):\n",
    "    hashs =[]\n",
    "    for seed in range(k):\n",
    "        hashs.append(minhash(shingles, seed))\n",
    "    return list(hashs)"
   ]
  },
  {
   "cell_type": "code",
   "execution_count": 165,
   "metadata": {},
   "outputs": [
    {
     "name": "stdout",
     "output_type": "stream",
     "text": [
      "[-1853008316, -1167391864, -2110243004]\n"
     ]
    }
   ],
   "source": [
    "print(minhashes(shi,3))"
   ]
  },
  {
   "cell_type": "markdown",
   "metadata": {},
   "source": [
    "# Signatures"
   ]
  },
  {
   "cell_type": "code",
   "execution_count": 166,
   "metadata": {},
   "outputs": [],
   "source": [
    "import os\n",
    "import sys\n",
    "import numpy as np"
   ]
  },
  {
   "cell_type": "code",
   "execution_count": 167,
   "metadata": {},
   "outputs": [
    {
     "name": "stdout",
     "output_type": "stream",
     "text": [
      "read document practicalthought00nev.txt\n",
      "read document calltounconv00baxt.txt\n",
      "read document remembermeorholy00palm.txt\n",
      "read document thoughtsonpopery00nevi.txt\n",
      "read document remember00palm.txt\n",
      "read document lifeofrevrichard00baxt.txt\n",
      "read document gospeltruth00whit.txt\n",
      "read document memoirjamesbrai00ricegoog.txt\n"
     ]
    }
   ],
   "source": [
    "################### Similarity ######################\n",
    "q = 3 # length of shingle\n",
    "k = 100 # number of minhashes\n",
    "docs = {} #dictionary mapping document id to document contents\n",
    "\n",
    "# read data sets\n",
    "srcfolder = os.path.dirname(sys.path[0])\n",
    "datafolder = os.path.join(srcfolder, \"Exc4/DataWeek5/ats_corpus_small\")   # change to ats_corpus for large data set\n",
    "\n",
    "for file in os.listdir(datafolder):\n",
    "    filepath = os.path.join(datafolder, file)\n",
    "    f = open(filepath, 'r')\n",
    "    docs[file] = f.read()\n",
    "    docs[file] = docs[file].replace('\\n','')\n",
    "    print(\"read document \" + file)\n",
    "    f.close()\n"
   ]
  },
  {
   "cell_type": "code",
   "execution_count": 168,
   "metadata": {},
   "outputs": [],
   "source": [
    "def signatures(files, q, k):\n",
    "    hash_dic = {}\n",
    "    for key, text in files.items():\n",
    "        shi = shinge(text,q)\n",
    "        hash_dic[key] = minhashes(shi, k)\n",
    "    return hash_dic"
   ]
  },
  {
   "cell_type": "code",
   "execution_count": 174,
   "metadata": {},
   "outputs": [],
   "source": [
    "q = 3\n",
    "k = 150\n",
    "sign = signatures(docs, q, k)"
   ]
  },
  {
   "cell_type": "markdown",
   "metadata": {},
   "source": [
    "# Jaccard Similarity"
   ]
  },
  {
   "cell_type": "code",
   "execution_count": 175,
   "metadata": {},
   "outputs": [],
   "source": [
    "def jaccard(name_o, name_s, signature_dict):\n",
    "    first = signature_dict[name_o]\n",
    "    second = signature_dict[name_s]\n",
    "\n",
    "    return len(np.intersect1d(first,second))/len(np.union1d(first,second))\n"
   ]
  },
  {
   "cell_type": "code",
   "execution_count": 176,
   "metadata": {},
   "outputs": [
    {
     "data": {
      "text/plain": [
       "0.006711409395973154"
      ]
     },
     "execution_count": 176,
     "metadata": {},
     "output_type": "execute_result"
    }
   ],
   "source": [
    "jaccard(list(sign.keys())[0],list(sign.keys())[1],sign)"
   ]
  },
  {
   "cell_type": "markdown",
   "metadata": {},
   "source": [
    "# Find Similar Item"
   ]
  },
  {
   "cell_type": "code",
   "execution_count": 182,
   "metadata": {},
   "outputs": [],
   "source": [
    "def find_sim(signature_dict, threshold):\n",
    "    sim_list = {}\n",
    "\n",
    "    keys =list(signature_dict.keys())\n",
    "    for k in range(len(keys)-1):\n",
    "        for j in range(k+1,len(keys)):\n",
    "            score = jaccard(keys[k],keys[j],signature_dict)\n",
    "            if score >= threshold:\n",
    "                sim_list[(keys[k],keys[j])] = score\n",
    "    return sim_list"
   ]
  },
  {
   "cell_type": "code",
   "execution_count": 186,
   "metadata": {},
   "outputs": [
    {
     "name": "stdout",
     "output_type": "stream",
     "text": [
      "{('remembermeorholy00palm.txt', 'remember00palm.txt'): 0.5544041450777202}\n"
     ]
    }
   ],
   "source": [
    "print(find_sim(sign,0.5))\n"
   ]
  }
 ],
 "metadata": {
  "kernelspec": {
   "display_name": "base",
   "language": "python",
   "name": "python3"
  },
  "language_info": {
   "codemirror_mode": {
    "name": "ipython",
    "version": 3
   },
   "file_extension": ".py",
   "mimetype": "text/x-python",
   "name": "python",
   "nbconvert_exporter": "python",
   "pygments_lexer": "ipython3",
   "version": "3.11.4"
  },
  "orig_nbformat": 4
 },
 "nbformat": 4,
 "nbformat_minor": 2
}
